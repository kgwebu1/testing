{
  "cells": [
    {
      "cell_type": "markdown",
      "metadata": {
        "id": "view-in-github",
        "colab_type": "text"
      },
      "source": [
        "<a href=\"https://colab.research.google.com/github/kgwebu1/testing/blob/master/Pandas.ipynb\" target=\"_parent\"><img src=\"https://colab.research.google.com/assets/colab-badge.svg\" alt=\"Open In Colab\"/></a>"
      ]
    },
    {
      "cell_type": "markdown",
      "id": "075c1342",
      "metadata": {
        "id": "075c1342"
      },
      "source": [
        "![Pandas.png](data:image/png;base64,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)"
      ]
    },
    {
      "cell_type": "code",
      "execution_count": null,
      "id": "632e414c",
      "metadata": {
        "id": "632e414c"
      },
      "outputs": [],
      "source": [
        "Pandas is a Python library that has functions for analyzing, cleaning, exploring, and manipulating data.\n",
        "\n"
      ]
    },
    {
      "cell_type": "markdown",
      "id": "77acde38",
      "metadata": {
        "id": "77acde38"
      },
      "source": [
        "# Importing Pandas"
      ]
    },
    {
      "cell_type": "code",
      "execution_count": null,
      "id": "cfcabfd9",
      "metadata": {
        "id": "cfcabfd9"
      },
      "outputs": [],
      "source": [
        "import pandas as pd\n"
      ]
    },
    {
      "cell_type": "markdown",
      "id": "181ae0dd",
      "metadata": {
        "id": "181ae0dd"
      },
      "source": [
        "# Checking Pandas Version"
      ]
    },
    {
      "cell_type": "code",
      "execution_count": null,
      "id": "0269abc3",
      "metadata": {
        "id": "0269abc3",
        "outputId": "dc7a9b02-fcca-43df-9993-409824930e91"
      },
      "outputs": [
        {
          "name": "stdout",
          "output_type": "stream",
          "text": [
            "1.2.4\n"
          ]
        }
      ],
      "source": [
        "print(pd.__version__)"
      ]
    },
    {
      "cell_type": "markdown",
      "id": "6af57c96",
      "metadata": {
        "id": "6af57c96"
      },
      "source": [
        "# Creating data\n",
        "There are two core objects in pandas: the DataFrame and the Series."
      ]
    },
    {
      "cell_type": "markdown",
      "id": "f56ac805",
      "metadata": {
        "id": "f56ac805"
      },
      "source": [
        "## Series\n",
        "A Series is, in essence, a single column of a DataFrame.\n",
        "\n",
        "It is a one-dimensional array holding data of any type.\n"
      ]
    },
    {
      "cell_type": "code",
      "execution_count": null,
      "id": "bc0e6fbc",
      "metadata": {
        "id": "bc0e6fbc",
        "outputId": "ee687759-c3ed-4b55-8704-82a8ed2cd8a6"
      },
      "outputs": [
        {
          "name": "stdout",
          "output_type": "stream",
          "text": [
            "0    1\n",
            "1    2\n",
            "2    3\n",
            "3    4\n",
            "4    5\n",
            "dtype: int64\n"
          ]
        }
      ],
      "source": [
        "# Example: Create a  Pandas Series from a list:\n",
        "\n",
        "\n",
        "series1= pd.Series([1,2,3,4,5])\n",
        "print(series1)\n",
        "\n",
        "#If nothing else is specified, the values are labeled with their index number. First value has index 0, second value has index 1 etc.\n"
      ]
    },
    {
      "cell_type": "code",
      "execution_count": null,
      "id": "036f0271",
      "metadata": {
        "id": "036f0271",
        "outputId": "610842ea-15d9-49dc-c955-32d3590d302a"
      },
      "outputs": [
        {
          "name": "stdout",
          "output_type": "stream",
          "text": [
            "2015 Sales    30\n",
            "2016 Sales    35\n",
            "2017 Sales    40\n",
            "Name: Product A, dtype: int64\n"
          ]
        }
      ],
      "source": [
        "# With the index argument, you can name your own labels.\n",
        "#Example\n",
        "\n",
        "series2=pd.Series([30, 35, 40], index=['2015 Sales', '2016 Sales', '2017 Sales'], name ='Product A')\n",
        "print(series2)"
      ]
    },
    {
      "cell_type": "markdown",
      "id": "d5f6038e",
      "metadata": {
        "id": "d5f6038e"
      },
      "source": [
        "## Dataframe\n",
        "A DataFrame is a table. It contains an array of individual entries, each of which has a certain value. Each entry corresponds to a row (or record) and a column."
      ]
    },
    {
      "cell_type": "code",
      "execution_count": null,
      "id": "669e7615",
      "metadata": {
        "id": "669e7615",
        "outputId": "48afa6b4-3718-448d-d386-c38abd65b128"
      },
      "outputs": [
        {
          "name": "stdout",
          "output_type": "stream",
          "text": [
            "   column 1  column 2  column 3\n",
            "0         4         7        10\n",
            "1         5         8        11\n",
            "2         6         9        12\n"
          ]
        }
      ],
      "source": [
        "## Creating a data frame\n",
        "#Use the pd.DataFrame() constructor to generate a DataFrame object\n",
        "\n",
        "df1=pd.DataFrame( {\"column 1\" : [4, 5, 6],\n",
        "                \"column 2\" : [7, 8, 9], \n",
        "                \"column 3\" : [10, 11, 12]})\n",
        "\n",
        "print (df1)"
      ]
    },
    {
      "cell_type": "code",
      "execution_count": null,
      "id": "e1e4af21",
      "metadata": {
        "id": "e1e4af21",
        "outputId": "816c6ee3-4430-45de-940b-787db8236154"
      },
      "outputs": [
        {
          "name": "stdout",
          "output_type": "stream",
          "text": [
            "       column 1  column 2  column 3\n",
            "row 1         4         7        10\n",
            "row 2         5         8        11\n",
            "row 3         6         9        12\n"
          ]
        }
      ],
      "source": [
        "df2= pd.DataFrame( [[4, 7, 10], \n",
        "                [5, 8, 11], \n",
        "                [6, 9, 12]], \n",
        "              index=[\"row 1\",\"row 2\",\"row 3\"], \n",
        "              columns=['column 1', 'column 2', 'column 3'])\n",
        "\n",
        "print (df2)"
      ]
    },
    {
      "cell_type": "code",
      "execution_count": null,
      "id": "c6984564",
      "metadata": {
        "id": "c6984564",
        "outputId": "13c31178-49e2-4030-d738-3f8dee9e36a1"
      },
      "outputs": [
        {
          "name": "stdout",
          "output_type": "stream",
          "text": [
            "            Bob          Sue\n",
            "0    I liked it  Pretty good\n",
            "1  It was awful        Bland\n"
          ]
        }
      ],
      "source": [
        "df3=pd.DataFrame({'Bob':['I liked it','It was awful'], \n",
        "              'Sue':['Pretty good','Bland']})\n",
        "print (df3)"
      ]
    },
    {
      "cell_type": "code",
      "execution_count": null,
      "id": "9cab522d",
      "metadata": {
        "id": "9cab522d",
        "outputId": "ec6f6253-aaf3-47cd-c8bb-970e7c8a142b"
      },
      "outputs": [
        {
          "name": "stdout",
          "output_type": "stream",
          "text": [
            "                     Bob           Sue          Jane\n",
            "Product A    I liked it.  Pretty good.  Interesting.\n",
            "Product B  It was awful.        Bland.  Not the best\n"
          ]
        }
      ],
      "source": [
        "## Assigning Row labels\n",
        "df4=pd.DataFrame({'Bob': ['I liked it.', 'It was awful.'], \n",
        "              'Sue': ['Pretty good.', 'Bland.'],\n",
        "             'Jane': ['Interesting.', 'Not the best']},\n",
        "             index=['Product A', 'Product B'])\n",
        "print (df4)"
      ]
    },
    {
      "cell_type": "code",
      "execution_count": null,
      "id": "a19041a6",
      "metadata": {
        "id": "a19041a6",
        "outputId": "715c001f-fffc-454d-897e-ef5eb9c3e064"
      },
      "outputs": [
        {
          "name": "stdout",
          "output_type": "stream",
          "text": [
            "                     Bob           Sue          Jane\n",
            "Product A    I liked it.  Pretty good.  Interesting.\n",
            "Product B  It was awful.        Bland.  Not the best\n"
          ]
        }
      ],
      "source": [
        "print(df)"
      ]
    },
    {
      "cell_type": "markdown",
      "id": "603ba5d5",
      "metadata": {
        "id": "603ba5d5"
      },
      "source": [
        "# Reshaping Data\n",
        "Change layout, sorting, reindexing, renaming"
      ]
    },
    {
      "cell_type": "code",
      "execution_count": null,
      "id": "1b927c82",
      "metadata": {
        "id": "1b927c82",
        "outputId": "b470aed5-d89b-42bd-fa27-ef3b66eecce6"
      },
      "outputs": [
        {
          "data": {
            "text/html": [
              "<div>\n",
              "<style scoped>\n",
              "    .dataframe tbody tr th:only-of-type {\n",
              "        vertical-align: middle;\n",
              "    }\n",
              "\n",
              "    .dataframe tbody tr th {\n",
              "        vertical-align: top;\n",
              "    }\n",
              "\n",
              "    .dataframe thead th {\n",
              "        text-align: right;\n",
              "    }\n",
              "</style>\n",
              "<table border=\"1\" class=\"dataframe\">\n",
              "  <thead>\n",
              "    <tr style=\"text-align: right;\">\n",
              "      <th></th>\n",
              "      <th>variable</th>\n",
              "      <th>value</th>\n",
              "    </tr>\n",
              "  </thead>\n",
              "  <tbody>\n",
              "    <tr>\n",
              "      <th>0</th>\n",
              "      <td>Bob</td>\n",
              "      <td>I liked it.</td>\n",
              "    </tr>\n",
              "    <tr>\n",
              "      <th>1</th>\n",
              "      <td>Bob</td>\n",
              "      <td>It was awful.</td>\n",
              "    </tr>\n",
              "    <tr>\n",
              "      <th>2</th>\n",
              "      <td>Sue</td>\n",
              "      <td>Pretty good.</td>\n",
              "    </tr>\n",
              "    <tr>\n",
              "      <th>3</th>\n",
              "      <td>Sue</td>\n",
              "      <td>Bland.</td>\n",
              "    </tr>\n",
              "    <tr>\n",
              "      <th>4</th>\n",
              "      <td>Jane</td>\n",
              "      <td>Interesting.</td>\n",
              "    </tr>\n",
              "    <tr>\n",
              "      <th>5</th>\n",
              "      <td>Jane</td>\n",
              "      <td>Not the best</td>\n",
              "    </tr>\n",
              "  </tbody>\n",
              "</table>\n",
              "</div>"
            ],
            "text/plain": [
              "  variable          value\n",
              "0      Bob    I liked it.\n",
              "1      Bob  It was awful.\n",
              "2      Sue   Pretty good.\n",
              "3      Sue         Bland.\n",
              "4     Jane   Interesting.\n",
              "5     Jane   Not the best"
            ]
          },
          "execution_count": 22,
          "metadata": {},
          "output_type": "execute_result"
        }
      ],
      "source": [
        "pd.melt(df4)"
      ]
    },
    {
      "cell_type": "markdown",
      "id": "c25a0479",
      "metadata": {
        "id": "c25a0479"
      },
      "source": [
        "# Reading and Analyzing data files\n",
        "Data can be stored in any of a number of different forms and formats. The most common Format is .csv\n",
        "We use the pd.read_csv() function to read the data into a DataFrame. "
      ]
    },
    {
      "cell_type": "code",
      "execution_count": null,
      "id": "669c3f2a",
      "metadata": {
        "id": "669c3f2a"
      },
      "outputs": [],
      "source": [
        "wine_reviews = pd.read_csv(\"winemag-data-130k-v2.csv\", index_col=0)"
      ]
    },
    {
      "cell_type": "code",
      "execution_count": null,
      "id": "b71e1a6b",
      "metadata": {
        "id": "b71e1a6b",
        "outputId": "ad711711-9219-4f46-8248-7bd3214018e0"
      },
      "outputs": [
        {
          "data": {
            "text/plain": [
              "(65499, 13)"
            ]
          },
          "execution_count": 21,
          "metadata": {},
          "output_type": "execute_result"
        }
      ],
      "source": [
        "##shape\n",
        "# We can use the shape attribute to check how large the resulting DataFrame is:\n",
        "wine_reviews.shape"
      ]
    },
    {
      "cell_type": "code",
      "execution_count": null,
      "id": "811d7b41",
      "metadata": {
        "id": "811d7b41",
        "outputId": "4a19fa6c-b900-40c2-9d6b-f239dbee84f1"
      },
      "outputs": [
        {
          "data": {
            "text/html": [
              "<div>\n",
              "<style scoped>\n",
              "    .dataframe tbody tr th:only-of-type {\n",
              "        vertical-align: middle;\n",
              "    }\n",
              "\n",
              "    .dataframe tbody tr th {\n",
              "        vertical-align: top;\n",
              "    }\n",
              "\n",
              "    .dataframe thead th {\n",
              "        text-align: right;\n",
              "    }\n",
              "</style>\n",
              "<table border=\"1\" class=\"dataframe\">\n",
              "  <thead>\n",
              "    <tr style=\"text-align: right;\">\n",
              "      <th></th>\n",
              "      <th>Unnamed: 0</th>\n",
              "      <th>country</th>\n",
              "      <th>description</th>\n",
              "      <th>designation</th>\n",
              "      <th>points</th>\n",
              "      <th>price</th>\n",
              "      <th>province</th>\n",
              "      <th>region_1</th>\n",
              "      <th>region_2</th>\n",
              "      <th>taster_name</th>\n",
              "      <th>taster_twitter_handle</th>\n",
              "      <th>title</th>\n",
              "      <th>variety</th>\n",
              "      <th>winery</th>\n",
              "    </tr>\n",
              "  </thead>\n",
              "  <tbody>\n",
              "    <tr>\n",
              "      <th>0</th>\n",
              "      <td>0</td>\n",
              "      <td>Italy</td>\n",
              "      <td>Aromas include tropical fruit, broom, brimston...</td>\n",
              "      <td>Vulkà Bianco</td>\n",
              "      <td>87</td>\n",
              "      <td>NaN</td>\n",
              "      <td>Sicily &amp; Sardinia</td>\n",
              "      <td>Etna</td>\n",
              "      <td>NaN</td>\n",
              "      <td>Kerin O’Keefe</td>\n",
              "      <td>@kerinokeefe</td>\n",
              "      <td>Nicosia 2013 Vulkà Bianco  (Etna)</td>\n",
              "      <td>White Blend</td>\n",
              "      <td>Nicosia</td>\n",
              "    </tr>\n",
              "    <tr>\n",
              "      <th>1</th>\n",
              "      <td>1</td>\n",
              "      <td>Portugal</td>\n",
              "      <td>This is ripe and fruity, a wine that is smooth...</td>\n",
              "      <td>Avidagos</td>\n",
              "      <td>87</td>\n",
              "      <td>15.0</td>\n",
              "      <td>Douro</td>\n",
              "      <td>NaN</td>\n",
              "      <td>NaN</td>\n",
              "      <td>Roger Voss</td>\n",
              "      <td>@vossroger</td>\n",
              "      <td>Quinta dos Avidagos 2011 Avidagos Red (Douro)</td>\n",
              "      <td>Portuguese Red</td>\n",
              "      <td>Quinta dos Avidagos</td>\n",
              "    </tr>\n",
              "    <tr>\n",
              "      <th>2</th>\n",
              "      <td>2</td>\n",
              "      <td>US</td>\n",
              "      <td>Tart and snappy, the flavors of lime flesh and...</td>\n",
              "      <td>NaN</td>\n",
              "      <td>87</td>\n",
              "      <td>14.0</td>\n",
              "      <td>Oregon</td>\n",
              "      <td>Willamette Valley</td>\n",
              "      <td>Willamette Valley</td>\n",
              "      <td>Paul Gregutt</td>\n",
              "      <td>@paulgwine</td>\n",
              "      <td>Rainstorm 2013 Pinot Gris (Willamette Valley)</td>\n",
              "      <td>Pinot Gris</td>\n",
              "      <td>Rainstorm</td>\n",
              "    </tr>\n",
              "    <tr>\n",
              "      <th>3</th>\n",
              "      <td>3</td>\n",
              "      <td>US</td>\n",
              "      <td>Pineapple rind, lemon pith and orange blossom ...</td>\n",
              "      <td>Reserve Late Harvest</td>\n",
              "      <td>87</td>\n",
              "      <td>13.0</td>\n",
              "      <td>Michigan</td>\n",
              "      <td>Lake Michigan Shore</td>\n",
              "      <td>NaN</td>\n",
              "      <td>Alexander Peartree</td>\n",
              "      <td>NaN</td>\n",
              "      <td>St. Julian 2013 Reserve Late Harvest Riesling ...</td>\n",
              "      <td>Riesling</td>\n",
              "      <td>St. Julian</td>\n",
              "    </tr>\n",
              "    <tr>\n",
              "      <th>4</th>\n",
              "      <td>4</td>\n",
              "      <td>US</td>\n",
              "      <td>Much like the regular bottling from 2012, this...</td>\n",
              "      <td>Vintner's Reserve Wild Child Block</td>\n",
              "      <td>87</td>\n",
              "      <td>65.0</td>\n",
              "      <td>Oregon</td>\n",
              "      <td>Willamette Valley</td>\n",
              "      <td>Willamette Valley</td>\n",
              "      <td>Paul Gregutt</td>\n",
              "      <td>@paulgwine</td>\n",
              "      <td>Sweet Cheeks 2012 Vintner's Reserve Wild Child...</td>\n",
              "      <td>Pinot Noir</td>\n",
              "      <td>Sweet Cheeks</td>\n",
              "    </tr>\n",
              "  </tbody>\n",
              "</table>\n",
              "</div>"
            ],
            "text/plain": [
              "   Unnamed: 0   country                                        description  \\\n",
              "0           0     Italy  Aromas include tropical fruit, broom, brimston...   \n",
              "1           1  Portugal  This is ripe and fruity, a wine that is smooth...   \n",
              "2           2        US  Tart and snappy, the flavors of lime flesh and...   \n",
              "3           3        US  Pineapple rind, lemon pith and orange blossom ...   \n",
              "4           4        US  Much like the regular bottling from 2012, this...   \n",
              "\n",
              "                          designation  points  price           province  \\\n",
              "0                        Vulkà Bianco      87    NaN  Sicily & Sardinia   \n",
              "1                            Avidagos      87   15.0              Douro   \n",
              "2                                 NaN      87   14.0             Oregon   \n",
              "3                Reserve Late Harvest      87   13.0           Michigan   \n",
              "4  Vintner's Reserve Wild Child Block      87   65.0             Oregon   \n",
              "\n",
              "              region_1           region_2         taster_name  \\\n",
              "0                 Etna                NaN       Kerin O’Keefe   \n",
              "1                  NaN                NaN          Roger Voss   \n",
              "2    Willamette Valley  Willamette Valley        Paul Gregutt   \n",
              "3  Lake Michigan Shore                NaN  Alexander Peartree   \n",
              "4    Willamette Valley  Willamette Valley        Paul Gregutt   \n",
              "\n",
              "  taster_twitter_handle                                              title  \\\n",
              "0          @kerinokeefe                  Nicosia 2013 Vulkà Bianco  (Etna)   \n",
              "1            @vossroger      Quinta dos Avidagos 2011 Avidagos Red (Douro)   \n",
              "2           @paulgwine       Rainstorm 2013 Pinot Gris (Willamette Valley)   \n",
              "3                   NaN  St. Julian 2013 Reserve Late Harvest Riesling ...   \n",
              "4           @paulgwine   Sweet Cheeks 2012 Vintner's Reserve Wild Child...   \n",
              "\n",
              "          variety               winery  \n",
              "0     White Blend              Nicosia  \n",
              "1  Portuguese Red  Quinta dos Avidagos  \n",
              "2      Pinot Gris            Rainstorm  \n",
              "3        Riesling           St. Julian  \n",
              "4      Pinot Noir         Sweet Cheeks  "
            ]
          },
          "execution_count": 17,
          "metadata": {},
          "output_type": "execute_result"
        }
      ],
      "source": [
        "# We can examine the contents of the resultant DataFrame using the head() command, which grabs the first five rows:\n",
        "wine_reviews.head()"
      ]
    },
    {
      "cell_type": "code",
      "execution_count": null,
      "id": "83bbd8e5",
      "metadata": {
        "id": "83bbd8e5",
        "outputId": "4513747d-d38f-4dec-ee96-c606a429c08d"
      },
      "outputs": [
        {
          "data": {
            "text/html": [
              "<div>\n",
              "<style scoped>\n",
              "    .dataframe tbody tr th:only-of-type {\n",
              "        vertical-align: middle;\n",
              "    }\n",
              "\n",
              "    .dataframe tbody tr th {\n",
              "        vertical-align: top;\n",
              "    }\n",
              "\n",
              "    .dataframe thead th {\n",
              "        text-align: right;\n",
              "    }\n",
              "</style>\n",
              "<table border=\"1\" class=\"dataframe\">\n",
              "  <thead>\n",
              "    <tr style=\"text-align: right;\">\n",
              "      <th></th>\n",
              "      <th>country</th>\n",
              "      <th>description</th>\n",
              "      <th>designation</th>\n",
              "      <th>points</th>\n",
              "      <th>price</th>\n",
              "      <th>province</th>\n",
              "      <th>region_1</th>\n",
              "      <th>region_2</th>\n",
              "      <th>taster_name</th>\n",
              "      <th>taster_twitter_handle</th>\n",
              "      <th>title</th>\n",
              "      <th>variety</th>\n",
              "      <th>winery</th>\n",
              "    </tr>\n",
              "  </thead>\n",
              "  <tbody>\n",
              "    <tr>\n",
              "      <th>65494</th>\n",
              "      <td>France</td>\n",
              "      <td>Made from young vines from the Vaulorent porti...</td>\n",
              "      <td>Fourchaume Premier Cru</td>\n",
              "      <td>90</td>\n",
              "      <td>45.0</td>\n",
              "      <td>Burgundy</td>\n",
              "      <td>Chablis</td>\n",
              "      <td>NaN</td>\n",
              "      <td>Roger Voss</td>\n",
              "      <td>@vossroger</td>\n",
              "      <td>William Fèvre 2005 Fourchaume Premier Cru  (Ch...</td>\n",
              "      <td>Chardonnay</td>\n",
              "      <td>William Fèvre</td>\n",
              "    </tr>\n",
              "    <tr>\n",
              "      <th>65495</th>\n",
              "      <td>Australia</td>\n",
              "      <td>This is a big, fat, almost sweet-tasting Caber...</td>\n",
              "      <td>NaN</td>\n",
              "      <td>90</td>\n",
              "      <td>22.0</td>\n",
              "      <td>South Australia</td>\n",
              "      <td>McLaren Vale</td>\n",
              "      <td>NaN</td>\n",
              "      <td>Joe Czerwinski</td>\n",
              "      <td>@JoeCz</td>\n",
              "      <td>Tapestry 2005 Cabernet Sauvignon (McLaren Vale)</td>\n",
              "      <td>Cabernet Sauvignon</td>\n",
              "      <td>Tapestry</td>\n",
              "    </tr>\n",
              "    <tr>\n",
              "      <th>65496</th>\n",
              "      <td>US</td>\n",
              "      <td>Much improved over the unripe 2005, Fritz's 20...</td>\n",
              "      <td>Estate</td>\n",
              "      <td>90</td>\n",
              "      <td>20.0</td>\n",
              "      <td>California</td>\n",
              "      <td>Dry Creek Valley</td>\n",
              "      <td>Sonoma</td>\n",
              "      <td>NaN</td>\n",
              "      <td>NaN</td>\n",
              "      <td>Fritz 2006 Estate Sauvignon Blanc (Dry Creek V...</td>\n",
              "      <td>Sauvignon Blanc</td>\n",
              "      <td>Fritz</td>\n",
              "    </tr>\n",
              "    <tr>\n",
              "      <th>65497</th>\n",
              "      <td>US</td>\n",
              "      <td>This wine wears its 15.8% alcohol better than ...</td>\n",
              "      <td>Block 24</td>\n",
              "      <td>90</td>\n",
              "      <td>31.0</td>\n",
              "      <td>California</td>\n",
              "      <td>Napa Valley</td>\n",
              "      <td>Napa</td>\n",
              "      <td>NaN</td>\n",
              "      <td>NaN</td>\n",
              "      <td>Hendry 2004 Block 24 Primitivo (Napa Valley)</td>\n",
              "      <td>Primitivo</td>\n",
              "      <td>Hendry</td>\n",
              "    </tr>\n",
              "    <tr>\n",
              "      <th>65498</th>\n",
              "      <td>Spain</td>\n",
              "      <td>A unique take on Manzanilla Sherry, which is o...</td>\n",
              "      <td>Manzanilla</td>\n",
              "      <td>90</td>\n",
              "      <td>10.0</td>\n",
              "      <td>Andalucia</td>\n",
              "      <td>Jerez</td>\n",
              "      <td>NaN</td>\n",
              "      <td>Michael Schachner</td>\n",
              "      <td>@wineschach</td>\n",
              "      <td>Bodegas Dios Baco S.L. NV Manzanilla Sherry (J...</td>\n",
              "      <td>Sherry</td>\n",
              "      <td>Bodegas Dios Baco S.L.</td>\n",
              "    </tr>\n",
              "  </tbody>\n",
              "</table>\n",
              "</div>"
            ],
            "text/plain": [
              "         country                                        description  \\\n",
              "65494     France  Made from young vines from the Vaulorent porti...   \n",
              "65495  Australia  This is a big, fat, almost sweet-tasting Caber...   \n",
              "65496         US  Much improved over the unripe 2005, Fritz's 20...   \n",
              "65497         US  This wine wears its 15.8% alcohol better than ...   \n",
              "65498      Spain  A unique take on Manzanilla Sherry, which is o...   \n",
              "\n",
              "                  designation  points  price         province  \\\n",
              "65494  Fourchaume Premier Cru      90   45.0         Burgundy   \n",
              "65495                     NaN      90   22.0  South Australia   \n",
              "65496                  Estate      90   20.0       California   \n",
              "65497                Block 24      90   31.0       California   \n",
              "65498              Manzanilla      90   10.0        Andalucia   \n",
              "\n",
              "               region_1 region_2        taster_name taster_twitter_handle  \\\n",
              "65494           Chablis      NaN         Roger Voss            @vossroger   \n",
              "65495      McLaren Vale      NaN     Joe Czerwinski                @JoeCz   \n",
              "65496  Dry Creek Valley   Sonoma                NaN                   NaN   \n",
              "65497       Napa Valley     Napa                NaN                   NaN   \n",
              "65498             Jerez      NaN  Michael Schachner           @wineschach   \n",
              "\n",
              "                                                   title             variety  \\\n",
              "65494  William Fèvre 2005 Fourchaume Premier Cru  (Ch...          Chardonnay   \n",
              "65495    Tapestry 2005 Cabernet Sauvignon (McLaren Vale)  Cabernet Sauvignon   \n",
              "65496  Fritz 2006 Estate Sauvignon Blanc (Dry Creek V...     Sauvignon Blanc   \n",
              "65497       Hendry 2004 Block 24 Primitivo (Napa Valley)           Primitivo   \n",
              "65498  Bodegas Dios Baco S.L. NV Manzanilla Sherry (J...              Sherry   \n",
              "\n",
              "                       winery  \n",
              "65494           William Fèvre  \n",
              "65495                Tapestry  \n",
              "65496                   Fritz  \n",
              "65497                  Hendry  \n",
              "65498  Bodegas Dios Baco S.L.  "
            ]
          },
          "execution_count": 45,
          "metadata": {},
          "output_type": "execute_result"
        }
      ],
      "source": [
        "# We can examine the contents of the resultant DataFrame using the head() command, which grabs the last five rows:\n",
        "wine_reviews.tail()"
      ]
    },
    {
      "cell_type": "code",
      "execution_count": null,
      "id": "4cf4887b",
      "metadata": {
        "id": "4cf4887b",
        "outputId": "992be6e0-ce96-40f7-9584-97e995f29101"
      },
      "outputs": [
        {
          "name": "stdout",
          "output_type": "stream",
          "text": [
            "<class 'pandas.core.frame.DataFrame'>\n",
            "Int64Index: 65499 entries, 0 to 65498\n",
            "Data columns (total 13 columns):\n",
            " #   Column                 Non-Null Count  Dtype  \n",
            "---  ------                 --------------  -----  \n",
            " 0   country                65467 non-null  object \n",
            " 1   description            65499 non-null  object \n",
            " 2   designation            46588 non-null  object \n",
            " 3   points                 65499 non-null  int64  \n",
            " 4   price                  60829 non-null  float64\n",
            " 5   province               65467 non-null  object \n",
            " 6   region_1               54744 non-null  object \n",
            " 7   region_2               25170 non-null  object \n",
            " 8   taster_name            51856 non-null  object \n",
            " 9   taster_twitter_handle  49467 non-null  object \n",
            " 10  title                  65499 non-null  object \n",
            " 11  variety                65499 non-null  object \n",
            " 12  winery                 65499 non-null  object \n",
            "dtypes: float64(1), int64(1), object(11)\n",
            "memory usage: 9.0+ MB\n"
          ]
        }
      ],
      "source": [
        "# The method called info() gives you more information about the data set.\n",
        "\n",
        "wine_reviews.info()"
      ]
    },
    {
      "cell_type": "markdown",
      "id": "3cf27121",
      "metadata": {
        "id": "3cf27121"
      },
      "source": [
        "# Indexing, Selecting & Assigning\n"
      ]
    },
    {
      "cell_type": "code",
      "execution_count": null,
      "id": "1e37bc4d",
      "metadata": {
        "id": "1e37bc4d",
        "outputId": "cd84b8af-e7d1-4456-9d96-2722aeab1c33"
      },
      "outputs": [
        {
          "data": {
            "text/plain": [
              "0            Italy\n",
              "1         Portugal\n",
              "2               US\n",
              "3               US\n",
              "4               US\n",
              "           ...    \n",
              "65494       France\n",
              "65495    Australia\n",
              "65496           US\n",
              "65497           US\n",
              "65498        Spain\n",
              "Name: country, Length: 65499, dtype: object"
            ]
          },
          "execution_count": 28,
          "metadata": {},
          "output_type": "execute_result"
        }
      ],
      "source": [
        "# In Python, we can access the property of an object by accessing it as an attribute. \n",
        "wine_reviews.country"
      ]
    },
    {
      "cell_type": "code",
      "execution_count": null,
      "id": "d25b4cd0",
      "metadata": {
        "id": "d25b4cd0",
        "outputId": "77f4e5e7-5a74-4c71-9fae-4a531ecd33ca"
      },
      "outputs": [
        {
          "data": {
            "text/plain": [
              "0            Italy\n",
              "1         Portugal\n",
              "2               US\n",
              "3               US\n",
              "4               US\n",
              "           ...    \n",
              "65494       France\n",
              "65495    Australia\n",
              "65496           US\n",
              "65497           US\n",
              "65498        Spain\n",
              "Name: country, Length: 65499, dtype: object"
            ]
          },
          "execution_count": 31,
          "metadata": {},
          "output_type": "execute_result"
        }
      ],
      "source": [
        "# We can also access its values using the indexing ([]) operator. \n",
        "wine_reviews['country']"
      ]
    },
    {
      "cell_type": "code",
      "execution_count": null,
      "id": "8a60a9cf",
      "metadata": {
        "id": "8a60a9cf",
        "outputId": "65e0f18f-0e0f-4bf5-ef72-a54cb0555898"
      },
      "outputs": [
        {
          "data": {
            "text/plain": [
              "'Portugal'"
            ]
          },
          "execution_count": 32,
          "metadata": {},
          "output_type": "execute_result"
        }
      ],
      "source": [
        "# To  select a specific Series out of a DataFrame we can use the indexing operator []\n",
        "wine_reviews['country'][1]"
      ]
    },
    {
      "cell_type": "markdown",
      "id": "e3949125",
      "metadata": {
        "id": "e3949125"
      },
      "source": [
        "## loc and iloc"
      ]
    },
    {
      "cell_type": "markdown",
      "id": "e068fe65",
      "metadata": {
        "id": "e068fe65"
      },
      "source": [
        "### iloc\n",
        "    index-based selection: selecting data based on its numerical position in the data. iloc"
      ]
    },
    {
      "cell_type": "code",
      "execution_count": null,
      "id": "392655e2",
      "metadata": {
        "id": "392655e2",
        "outputId": "0650179b-7a82-4475-a1ed-2623a64adce6"
      },
      "outputs": [
        {
          "data": {
            "text/plain": [
              "country                                                              Italy\n",
              "description              Aromas include tropical fruit, broom, brimston...\n",
              "designation                                                   Vulkà Bianco\n",
              "points                                                                  87\n",
              "price                                                                  NaN\n",
              "province                                                 Sicily & Sardinia\n",
              "region_1                                                              Etna\n",
              "region_2                                                               NaN\n",
              "taster_name                                                  Kerin O’Keefe\n",
              "taster_twitter_handle                                         @kerinokeefe\n",
              "title                                    Nicosia 2013 Vulkà Bianco  (Etna)\n",
              "variety                                                        White Blend\n",
              "winery                                                             Nicosia\n",
              "Name: 0, dtype: object"
            ]
          },
          "execution_count": 33,
          "metadata": {},
          "output_type": "execute_result"
        }
      ],
      "source": [
        "#Example: Slect the First Row of Data\n",
        "wine_reviews.iloc[0]"
      ]
    },
    {
      "cell_type": "code",
      "execution_count": null,
      "id": "f7e2c60d",
      "metadata": {
        "id": "f7e2c60d",
        "outputId": "8ef67ac3-2dac-46c8-d3f4-a5dcd70dbed4"
      },
      "outputs": [
        {
          "data": {
            "text/plain": [
              "country                                                                 US\n",
              "description              Tart and snappy, the flavors of lime flesh and...\n",
              "designation                                                            NaN\n",
              "points                                                                  87\n",
              "price                                                                 14.0\n",
              "province                                                            Oregon\n",
              "region_1                                                 Willamette Valley\n",
              "region_2                                                 Willamette Valley\n",
              "taster_name                                                   Paul Gregutt\n",
              "taster_twitter_handle                                          @paulgwine \n",
              "title                        Rainstorm 2013 Pinot Gris (Willamette Valley)\n",
              "variety                                                         Pinot Gris\n",
              "winery                                                           Rainstorm\n",
              "Name: 2, dtype: object"
            ]
          },
          "execution_count": 34,
          "metadata": {},
          "output_type": "execute_result"
        }
      ],
      "source": [
        "#Example: Select  the third  Row of Data\n",
        "wine_reviews.iloc[2]"
      ]
    },
    {
      "cell_type": "markdown",
      "id": "ef70693e",
      "metadata": {
        "id": "ef70693e"
      },
      "source": [
        "# Cleaning Data\n",
        "The data set that we will be worning with  contains \n",
        "* some empty cells\n",
        "*  wrong format \n",
        "*  wrong data \n",
        "*  duplicates\n",
        "We will address each of these issues"
      ]
    },
    {
      "cell_type": "code",
      "execution_count": null,
      "id": "4d117366",
      "metadata": {
        "id": "4d117366"
      },
      "outputs": [],
      "source": [
        "df = pd.read_csv('dataset.csv')"
      ]
    },
    {
      "cell_type": "code",
      "execution_count": null,
      "id": "4ca2ebbb",
      "metadata": {
        "id": "4ca2ebbb",
        "outputId": "14577f35-3efa-4047-a0ca-51e5a9625a9d"
      },
      "outputs": [
        {
          "data": {
            "text/html": [
              "<div>\n",
              "<style scoped>\n",
              "    .dataframe tbody tr th:only-of-type {\n",
              "        vertical-align: middle;\n",
              "    }\n",
              "\n",
              "    .dataframe tbody tr th {\n",
              "        vertical-align: top;\n",
              "    }\n",
              "\n",
              "    .dataframe thead th {\n",
              "        text-align: right;\n",
              "    }\n",
              "</style>\n",
              "<table border=\"1\" class=\"dataframe\">\n",
              "  <thead>\n",
              "    <tr style=\"text-align: right;\">\n",
              "      <th></th>\n",
              "      <th>Duration</th>\n",
              "      <th>Date</th>\n",
              "      <th>Pulse</th>\n",
              "      <th>Maxpulse</th>\n",
              "      <th>Calories</th>\n",
              "    </tr>\n",
              "  </thead>\n",
              "  <tbody>\n",
              "    <tr>\n",
              "      <th>0</th>\n",
              "      <td>60</td>\n",
              "      <td>'2020/12/01'</td>\n",
              "      <td>110</td>\n",
              "      <td>130</td>\n",
              "      <td>409.1</td>\n",
              "    </tr>\n",
              "    <tr>\n",
              "      <th>1</th>\n",
              "      <td>60</td>\n",
              "      <td>'2020/12/02'</td>\n",
              "      <td>117</td>\n",
              "      <td>145</td>\n",
              "      <td>479.0</td>\n",
              "    </tr>\n",
              "    <tr>\n",
              "      <th>2</th>\n",
              "      <td>60</td>\n",
              "      <td>'2020/12/03'</td>\n",
              "      <td>103</td>\n",
              "      <td>135</td>\n",
              "      <td>340.0</td>\n",
              "    </tr>\n",
              "    <tr>\n",
              "      <th>3</th>\n",
              "      <td>45</td>\n",
              "      <td>'2020/12/04'</td>\n",
              "      <td>109</td>\n",
              "      <td>175</td>\n",
              "      <td>282.4</td>\n",
              "    </tr>\n",
              "    <tr>\n",
              "      <th>4</th>\n",
              "      <td>45</td>\n",
              "      <td>'2020/12/05'</td>\n",
              "      <td>117</td>\n",
              "      <td>148</td>\n",
              "      <td>406.0</td>\n",
              "    </tr>\n",
              "    <tr>\n",
              "      <th>5</th>\n",
              "      <td>60</td>\n",
              "      <td>'2020/12/06'</td>\n",
              "      <td>102</td>\n",
              "      <td>127</td>\n",
              "      <td>300.0</td>\n",
              "    </tr>\n",
              "    <tr>\n",
              "      <th>6</th>\n",
              "      <td>60</td>\n",
              "      <td>'2020/12/07'</td>\n",
              "      <td>110</td>\n",
              "      <td>136</td>\n",
              "      <td>374.0</td>\n",
              "    </tr>\n",
              "    <tr>\n",
              "      <th>7</th>\n",
              "      <td>450</td>\n",
              "      <td>'2020/12/08'</td>\n",
              "      <td>104</td>\n",
              "      <td>134</td>\n",
              "      <td>253.3</td>\n",
              "    </tr>\n",
              "    <tr>\n",
              "      <th>8</th>\n",
              "      <td>30</td>\n",
              "      <td>'2020/12/09'</td>\n",
              "      <td>109</td>\n",
              "      <td>133</td>\n",
              "      <td>195.1</td>\n",
              "    </tr>\n",
              "    <tr>\n",
              "      <th>9</th>\n",
              "      <td>60</td>\n",
              "      <td>'2020/12/10'</td>\n",
              "      <td>98</td>\n",
              "      <td>124</td>\n",
              "      <td>269.0</td>\n",
              "    </tr>\n",
              "    <tr>\n",
              "      <th>10</th>\n",
              "      <td>60</td>\n",
              "      <td>'2020/12/11'</td>\n",
              "      <td>103</td>\n",
              "      <td>147</td>\n",
              "      <td>329.3</td>\n",
              "    </tr>\n",
              "    <tr>\n",
              "      <th>11</th>\n",
              "      <td>60</td>\n",
              "      <td>'2020/12/12'</td>\n",
              "      <td>100</td>\n",
              "      <td>120</td>\n",
              "      <td>250.7</td>\n",
              "    </tr>\n",
              "    <tr>\n",
              "      <th>12</th>\n",
              "      <td>60</td>\n",
              "      <td>'2020/12/12'</td>\n",
              "      <td>100</td>\n",
              "      <td>120</td>\n",
              "      <td>250.7</td>\n",
              "    </tr>\n",
              "    <tr>\n",
              "      <th>13</th>\n",
              "      <td>60</td>\n",
              "      <td>'2020/12/13'</td>\n",
              "      <td>106</td>\n",
              "      <td>128</td>\n",
              "      <td>345.3</td>\n",
              "    </tr>\n",
              "    <tr>\n",
              "      <th>14</th>\n",
              "      <td>60</td>\n",
              "      <td>'2020/12/14'</td>\n",
              "      <td>104</td>\n",
              "      <td>132</td>\n",
              "      <td>379.3</td>\n",
              "    </tr>\n",
              "    <tr>\n",
              "      <th>15</th>\n",
              "      <td>60</td>\n",
              "      <td>'2020/12/15'</td>\n",
              "      <td>98</td>\n",
              "      <td>123</td>\n",
              "      <td>275.0</td>\n",
              "    </tr>\n",
              "    <tr>\n",
              "      <th>16</th>\n",
              "      <td>60</td>\n",
              "      <td>'2020/12/16'</td>\n",
              "      <td>98</td>\n",
              "      <td>120</td>\n",
              "      <td>215.2</td>\n",
              "    </tr>\n",
              "    <tr>\n",
              "      <th>17</th>\n",
              "      <td>60</td>\n",
              "      <td>'2020/12/17'</td>\n",
              "      <td>100</td>\n",
              "      <td>120</td>\n",
              "      <td>300.0</td>\n",
              "    </tr>\n",
              "    <tr>\n",
              "      <th>18</th>\n",
              "      <td>45</td>\n",
              "      <td>'2020/12/18'</td>\n",
              "      <td>90</td>\n",
              "      <td>112</td>\n",
              "      <td>NaN</td>\n",
              "    </tr>\n",
              "    <tr>\n",
              "      <th>19</th>\n",
              "      <td>60</td>\n",
              "      <td>'2020/12/19'</td>\n",
              "      <td>103</td>\n",
              "      <td>123</td>\n",
              "      <td>323.0</td>\n",
              "    </tr>\n",
              "    <tr>\n",
              "      <th>20</th>\n",
              "      <td>45</td>\n",
              "      <td>'2020/12/20'</td>\n",
              "      <td>97</td>\n",
              "      <td>125</td>\n",
              "      <td>243.0</td>\n",
              "    </tr>\n",
              "    <tr>\n",
              "      <th>21</th>\n",
              "      <td>60</td>\n",
              "      <td>'2020/12/21'</td>\n",
              "      <td>108</td>\n",
              "      <td>131</td>\n",
              "      <td>364.2</td>\n",
              "    </tr>\n",
              "    <tr>\n",
              "      <th>22</th>\n",
              "      <td>45</td>\n",
              "      <td>NaN</td>\n",
              "      <td>100</td>\n",
              "      <td>119</td>\n",
              "      <td>282.0</td>\n",
              "    </tr>\n",
              "    <tr>\n",
              "      <th>23</th>\n",
              "      <td>60</td>\n",
              "      <td>'2020/12/23'</td>\n",
              "      <td>130</td>\n",
              "      <td>101</td>\n",
              "      <td>300.0</td>\n",
              "    </tr>\n",
              "    <tr>\n",
              "      <th>24</th>\n",
              "      <td>45</td>\n",
              "      <td>'2020/12/24'</td>\n",
              "      <td>105</td>\n",
              "      <td>132</td>\n",
              "      <td>246.0</td>\n",
              "    </tr>\n",
              "    <tr>\n",
              "      <th>25</th>\n",
              "      <td>60</td>\n",
              "      <td>'2020/12/25'</td>\n",
              "      <td>102</td>\n",
              "      <td>126</td>\n",
              "      <td>334.5</td>\n",
              "    </tr>\n",
              "    <tr>\n",
              "      <th>26</th>\n",
              "      <td>60</td>\n",
              "      <td>20201226</td>\n",
              "      <td>100</td>\n",
              "      <td>120</td>\n",
              "      <td>250.0</td>\n",
              "    </tr>\n",
              "    <tr>\n",
              "      <th>27</th>\n",
              "      <td>60</td>\n",
              "      <td>'2020/12/27'</td>\n",
              "      <td>92</td>\n",
              "      <td>118</td>\n",
              "      <td>241.0</td>\n",
              "    </tr>\n",
              "    <tr>\n",
              "      <th>28</th>\n",
              "      <td>60</td>\n",
              "      <td>'2020/12/28'</td>\n",
              "      <td>103</td>\n",
              "      <td>132</td>\n",
              "      <td>NaN</td>\n",
              "    </tr>\n",
              "    <tr>\n",
              "      <th>29</th>\n",
              "      <td>60</td>\n",
              "      <td>'2020/12/29'</td>\n",
              "      <td>100</td>\n",
              "      <td>132</td>\n",
              "      <td>280.0</td>\n",
              "    </tr>\n",
              "    <tr>\n",
              "      <th>30</th>\n",
              "      <td>60</td>\n",
              "      <td>'2020/12/30'</td>\n",
              "      <td>102</td>\n",
              "      <td>129</td>\n",
              "      <td>380.3</td>\n",
              "    </tr>\n",
              "    <tr>\n",
              "      <th>31</th>\n",
              "      <td>60</td>\n",
              "      <td>'2020/12/31'</td>\n",
              "      <td>92</td>\n",
              "      <td>115</td>\n",
              "      <td>243.0</td>\n",
              "    </tr>\n",
              "  </tbody>\n",
              "</table>\n",
              "</div>"
            ],
            "text/plain": [
              "    Duration          Date  Pulse  Maxpulse  Calories\n",
              "0         60  '2020/12/01'    110       130     409.1\n",
              "1         60  '2020/12/02'    117       145     479.0\n",
              "2         60  '2020/12/03'    103       135     340.0\n",
              "3         45  '2020/12/04'    109       175     282.4\n",
              "4         45  '2020/12/05'    117       148     406.0\n",
              "5         60  '2020/12/06'    102       127     300.0\n",
              "6         60  '2020/12/07'    110       136     374.0\n",
              "7        450  '2020/12/08'    104       134     253.3\n",
              "8         30  '2020/12/09'    109       133     195.1\n",
              "9         60  '2020/12/10'     98       124     269.0\n",
              "10        60  '2020/12/11'    103       147     329.3\n",
              "11        60  '2020/12/12'    100       120     250.7\n",
              "12        60  '2020/12/12'    100       120     250.7\n",
              "13        60  '2020/12/13'    106       128     345.3\n",
              "14        60  '2020/12/14'    104       132     379.3\n",
              "15        60  '2020/12/15'     98       123     275.0\n",
              "16        60  '2020/12/16'     98       120     215.2\n",
              "17        60  '2020/12/17'    100       120     300.0\n",
              "18        45  '2020/12/18'     90       112       NaN\n",
              "19        60  '2020/12/19'    103       123     323.0\n",
              "20        45  '2020/12/20'     97       125     243.0\n",
              "21        60  '2020/12/21'    108       131     364.2\n",
              "22        45           NaN    100       119     282.0\n",
              "23        60  '2020/12/23'    130       101     300.0\n",
              "24        45  '2020/12/24'    105       132     246.0\n",
              "25        60  '2020/12/25'    102       126     334.5\n",
              "26        60      20201226    100       120     250.0\n",
              "27        60  '2020/12/27'     92       118     241.0\n",
              "28        60  '2020/12/28'    103       132       NaN\n",
              "29        60  '2020/12/29'    100       132     280.0\n",
              "30        60  '2020/12/30'    102       129     380.3\n",
              "31        60  '2020/12/31'     92       115     243.0"
            ]
          },
          "execution_count": 50,
          "metadata": {},
          "output_type": "execute_result"
        }
      ],
      "source": [
        "df\n"
      ]
    }
  ],
  "metadata": {
    "kernelspec": {
      "display_name": "Python 3",
      "language": "python",
      "name": "python3"
    },
    "language_info": {
      "codemirror_mode": {
        "name": "ipython",
        "version": 3
      },
      "file_extension": ".py",
      "mimetype": "text/x-python",
      "name": "python",
      "nbconvert_exporter": "python",
      "pygments_lexer": "ipython3",
      "version": "3.8.8"
    },
    "toc": {
      "base_numbering": 1,
      "nav_menu": {},
      "number_sections": true,
      "sideBar": true,
      "skip_h1_title": false,
      "title_cell": "Table of Contents",
      "title_sidebar": "Contents",
      "toc_cell": false,
      "toc_position": {},
      "toc_section_display": true,
      "toc_window_display": false
    },
    "varInspector": {
      "cols": {
        "lenName": 16,
        "lenType": 16,
        "lenVar": 40
      },
      "kernels_config": {
        "python": {
          "delete_cmd_postfix": "",
          "delete_cmd_prefix": "del ",
          "library": "var_list.py",
          "varRefreshCmd": "print(var_dic_list())"
        },
        "r": {
          "delete_cmd_postfix": ") ",
          "delete_cmd_prefix": "rm(",
          "library": "var_list.r",
          "varRefreshCmd": "cat(var_dic_list()) "
        }
      },
      "types_to_exclude": [
        "module",
        "function",
        "builtin_function_or_method",
        "instance",
        "_Feature"
      ],
      "window_display": false
    },
    "colab": {
      "name": "Pandas.ipynb",
      "provenance": [],
      "include_colab_link": true
    }
  },
  "nbformat": 4,
  "nbformat_minor": 5
}